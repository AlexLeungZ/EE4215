{
 "cells": [
  {
   "cell_type": "code",
   "execution_count": 1,
   "metadata": {},
   "outputs": [],
   "source": [
    "import sage.all as sage\n"
   ]
  },
  {
   "cell_type": "code",
   "execution_count": 2,
   "metadata": {},
   "outputs": [],
   "source": [
    "def pollard_pm1(N, B=0):\n",
    "    if not B:\n",
    "        B = sage.ceil(sage.sqrt(N))\n",
    "    a = sage.Integers(N).random_element()\n",
    "    b = a\n",
    "    for ell in sage.primes(B):\n",
    "        q = 1\n",
    "        while q < N:\n",
    "            q *= ell\n",
    "        b = b**q\n",
    "        if b == 1:\n",
    "            return 0\n",
    "        d = sage.gcd(b.lift()-1, N)\n",
    "        if d > 1:\n",
    "            return d\n",
    "    return 0\n"
   ]
  },
  {
   "attachments": {},
   "cell_type": "markdown",
   "metadata": {},
   "source": [
    "### Question 6\n"
   ]
  },
  {
   "cell_type": "code",
   "execution_count": 3,
   "metadata": {},
   "outputs": [],
   "source": [
    "p = 7\n",
    "g = 3\n",
    "a = 2\n",
    "b = 4\n"
   ]
  },
  {
   "cell_type": "code",
   "execution_count": 4,
   "metadata": {},
   "outputs": [],
   "source": [
    "yA = sage.power_mod(g, a, p)\n",
    "yB = sage.power_mod(g, b, p)\n",
    "kA = sage.power_mod(yB, a, p)\n",
    "kB = sage.power_mod(yA, b, p)\n",
    "kAB = sage.power_mod(g, a*b, p)\n"
   ]
  },
  {
   "cell_type": "code",
   "execution_count": 5,
   "metadata": {},
   "outputs": [
    {
     "data": {
      "text/plain": [
       "[2, 4, 2, 2, 2]"
      ]
     },
     "execution_count": 5,
     "metadata": {},
     "output_type": "execute_result"
    }
   ],
   "source": [
    "[yA, yB, kA, kB, kAB]\n"
   ]
  },
  {
   "attachments": {},
   "cell_type": "markdown",
   "metadata": {},
   "source": [
    "### Question 7\n"
   ]
  },
  {
   "cell_type": "code",
   "execution_count": 6,
   "metadata": {},
   "outputs": [],
   "source": [
    "N = 38485385893612647530529565399136160386558570363459\n",
    "e = 12036041725135809493242715057143070093942766266573\n",
    "c = 38339997921296992667439824744705054840732860561898\n"
   ]
  },
  {
   "cell_type": "code",
   "execution_count": 7,
   "metadata": {},
   "outputs": [],
   "source": [
    "# sage.prime_divisors(N)\n",
    "p = 4685815961339311313770679\n",
    "q = 8213166332425198564484821\n"
   ]
  },
  {
   "cell_type": "code",
   "execution_count": 8,
   "metadata": {},
   "outputs": [
    {
     "data": {
      "text/plain": [
       "14486861768954059444450932867743887374807742208797"
      ]
     },
     "execution_count": 8,
     "metadata": {},
     "output_type": "execute_result"
    }
   ],
   "source": [
    "# sage.euler_phi(N)\n",
    "d = sage.xgcd(e, (p - 1) * (q - 1))[1]\n",
    "d\n"
   ]
  },
  {
   "cell_type": "code",
   "execution_count": 9,
   "metadata": {},
   "outputs": [
    {
     "data": {
      "text/plain": [
       "16051205"
      ]
     },
     "execution_count": 9,
     "metadata": {},
     "output_type": "execute_result"
    }
   ],
   "source": [
    "m = sage.power_mod(c, d, N)\n",
    "m\n"
   ]
  },
  {
   "cell_type": "code",
   "execution_count": 10,
   "metadata": {},
   "outputs": [
    {
     "data": {
      "text/plain": [
       "38339997921296992667439824744705054840732860561898"
      ]
     },
     "execution_count": 10,
     "metadata": {},
     "output_type": "execute_result"
    }
   ],
   "source": [
    "c = sage.power_mod(m, e, N)\n",
    "c\n"
   ]
  },
  {
   "attachments": {},
   "cell_type": "markdown",
   "metadata": {},
   "source": [
    "### Question 8\n"
   ]
  },
  {
   "cell_type": "code",
   "execution_count": 11,
   "metadata": {},
   "outputs": [
    {
     "name": "stdout",
     "output_type": "stream",
     "text": [
      "201557389900540095613559219541299540522405259329399736824858252876376521311053006710577163057234093\n",
      "26935068487360434215864599912291896955872647053313\n",
      "7483084366209168271782756331060941470747106214061\n"
     ]
    }
   ],
   "source": [
    "N = 201557389900540095613559219541299540522405259329399736824858252876376521311053006710577163057234093\n",
    "p = pollard_pm1(N)\n",
    "q = int(N/p)\n",
    "\n",
    "print(N)\n",
    "print(p)\n",
    "print(q)\n"
   ]
  },
  {
   "cell_type": "code",
   "execution_count": 12,
   "metadata": {},
   "outputs": [
    {
     "name": "stdout",
     "output_type": "stream",
     "text": [
      "201557389900540095613559219541299540522405259329399736824858252876376521311053006710577163057234093\n",
      "201557389900540095613559219541299540522405259329399736824858252876376521311053006710577163057234093\n"
     ]
    }
   ],
   "source": [
    "print(N)\n",
    "print(p*q)\n"
   ]
  }
 ],
 "metadata": {
  "kernelspec": {
   "display_name": "sage",
   "language": "python",
   "name": "python3"
  },
  "language_info": {
   "codemirror_mode": {
    "name": "ipython",
    "version": 3
   },
   "file_extension": ".py",
   "mimetype": "text/x-python",
   "name": "python",
   "nbconvert_exporter": "python",
   "pygments_lexer": "ipython3",
   "version": "3.10.9"
  },
  "orig_nbformat": 4,
  "vscode": {
   "interpreter": {
    "hash": "d40408894e3998c0bc06df46d7eefb0c1bbf1f673980020b5664e79bbf6e7ace"
   }
  }
 },
 "nbformat": 4,
 "nbformat_minor": 2
}
